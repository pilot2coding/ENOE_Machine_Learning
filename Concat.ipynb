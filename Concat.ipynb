{
 "cells": [
  {
   "cell_type": "code",
   "execution_count": 11,
   "metadata": {},
   "outputs": [],
   "source": [
    "import pandas as pd\n",
    "pd.set_option('display.max_columns', None)"
   ]
  },
  {
   "cell_type": "code",
   "execution_count": 19,
   "metadata": {},
   "outputs": [],
   "source": [
    "df1 = pd.read_excel(\"F:\\Proyectos (DA)\\ENOEML\\Encuestas\\ENOE_1T.xlsx\",)\n",
    "df2 = pd.read_excel(\"F:\\Proyectos (DA)\\ENOEML\\Encuestas\\ENOE_2T.xlsx\")\n",
    "df3 = pd.read_excel(\"F:\\Proyectos (DA)\\ENOEML\\Encuestas\\ENOE_3T.xlsx\")\n",
    "df4 = pd.read_excel(\"F:\\Proyectos (DA)\\ENOEML\\Encuestas\\ENOE_4T.xlsx\")"
   ]
  },
  {
   "cell_type": "code",
   "execution_count": 20,
   "metadata": {},
   "outputs": [],
   "source": [
    "ENOE_2022 = pd.concat([df1,df2,df3,df4],axis=0)"
   ]
  },
  {
   "cell_type": "code",
   "execution_count": 21,
   "metadata": {},
   "outputs": [
    {
     "data": {
      "text/plain": [
       "(1442437, 26)"
      ]
     },
     "execution_count": 21,
     "metadata": {},
     "output_type": "execute_result"
    }
   ],
   "source": [
    "ENOE_2022.shape"
   ]
  },
  {
   "cell_type": "code",
   "execution_count": 22,
   "metadata": {},
   "outputs": [
    {
     "data": {
      "text/html": [
       "<div>\n",
       "<style scoped>\n",
       "    .dataframe tbody tr th:only-of-type {\n",
       "        vertical-align: middle;\n",
       "    }\n",
       "\n",
       "    .dataframe tbody tr th {\n",
       "        vertical-align: top;\n",
       "    }\n",
       "\n",
       "    .dataframe thead th {\n",
       "        text-align: right;\n",
       "    }\n",
       "</style>\n",
       "<table border=\"1\" class=\"dataframe\">\n",
       "  <thead>\n",
       "    <tr style=\"text-align: right;\">\n",
       "      <th></th>\n",
       "      <th>upm</th>\n",
       "      <th>Edad</th>\n",
       "      <th>Hijos</th>\n",
       "      <th>SalarioMinimo</th>\n",
       "      <th>FechaNacimiento</th>\n",
       "      <th>YearsEscolaridad</th>\n",
       "      <th>HorasSemana</th>\n",
       "      <th>IngresoMensual</th>\n",
       "      <th>IngresoHoras</th>\n",
       "    </tr>\n",
       "  </thead>\n",
       "  <tbody>\n",
       "    <tr>\n",
       "      <th>count</th>\n",
       "      <td>1.442437e+06</td>\n",
       "      <td>1.442437e+06</td>\n",
       "      <td>1.442437e+06</td>\n",
       "      <td>1.442437e+06</td>\n",
       "      <td>1.442437e+06</td>\n",
       "      <td>1.442437e+06</td>\n",
       "      <td>1.442437e+06</td>\n",
       "      <td>1.442437e+06</td>\n",
       "      <td>1.442437e+06</td>\n",
       "    </tr>\n",
       "    <tr>\n",
       "      <th>mean</th>\n",
       "      <td>1.650327e+06</td>\n",
       "      <td>3.383921e+01</td>\n",
       "      <td>8.843464e-01</td>\n",
       "      <td>5.376124e+03</td>\n",
       "      <td>3.240827e+04</td>\n",
       "      <td>8.324196e+00</td>\n",
       "      <td>1.876852e+01</td>\n",
       "      <td>2.662578e+03</td>\n",
       "      <td>1.602949e+01</td>\n",
       "    </tr>\n",
       "    <tr>\n",
       "      <th>std</th>\n",
       "      <td>9.331443e+05</td>\n",
       "      <td>2.139549e+01</td>\n",
       "      <td>1.821677e+00</td>\n",
       "      <td>6.802491e+02</td>\n",
       "      <td>2.604438e+04</td>\n",
       "      <td>6.179617e+00</td>\n",
       "      <td>2.391981e+01</td>\n",
       "      <td>5.610424e+03</td>\n",
       "      <td>4.533147e+01</td>\n",
       "    </tr>\n",
       "    <tr>\n",
       "      <th>min</th>\n",
       "      <td>1.000050e+05</td>\n",
       "      <td>0.000000e+00</td>\n",
       "      <td>0.000000e+00</td>\n",
       "      <td>5.186000e+03</td>\n",
       "      <td>2.928000e+03</td>\n",
       "      <td>0.000000e+00</td>\n",
       "      <td>0.000000e+00</td>\n",
       "      <td>0.000000e+00</td>\n",
       "      <td>0.000000e+00</td>\n",
       "    </tr>\n",
       "    <tr>\n",
       "      <th>25%</th>\n",
       "      <td>8.036340e+05</td>\n",
       "      <td>1.600000e+01</td>\n",
       "      <td>0.000000e+00</td>\n",
       "      <td>5.186000e+03</td>\n",
       "      <td>2.630800e+04</td>\n",
       "      <td>5.000000e+00</td>\n",
       "      <td>0.000000e+00</td>\n",
       "      <td>0.000000e+00</td>\n",
       "      <td>0.000000e+00</td>\n",
       "    </tr>\n",
       "    <tr>\n",
       "      <th>50%</th>\n",
       "      <td>1.601115e+06</td>\n",
       "      <td>3.100000e+01</td>\n",
       "      <td>0.000000e+00</td>\n",
       "      <td>5.186000e+03</td>\n",
       "      <td>3.309100e+04</td>\n",
       "      <td>9.000000e+00</td>\n",
       "      <td>0.000000e+00</td>\n",
       "      <td>0.000000e+00</td>\n",
       "      <td>0.000000e+00</td>\n",
       "    </tr>\n",
       "    <tr>\n",
       "      <th>75%</th>\n",
       "      <td>2.501529e+06</td>\n",
       "      <td>5.000000e+01</td>\n",
       "      <td>1.000000e+00</td>\n",
       "      <td>5.186000e+03</td>\n",
       "      <td>3.877500e+04</td>\n",
       "      <td>1.200000e+01</td>\n",
       "      <td>4.200000e+01</td>\n",
       "      <td>4.300000e+03</td>\n",
       "      <td>2.400000e+01</td>\n",
       "    </tr>\n",
       "    <tr>\n",
       "      <th>max</th>\n",
       "      <td>3.260800e+06</td>\n",
       "      <td>9.800000e+01</td>\n",
       "      <td>9.900000e+01</td>\n",
       "      <td>7.810000e+03</td>\n",
       "      <td>2.958461e+06</td>\n",
       "      <td>9.900000e+01</td>\n",
       "      <td>1.680000e+02</td>\n",
       "      <td>3.000000e+05</td>\n",
       "      <td>1.000000e+04</td>\n",
       "    </tr>\n",
       "  </tbody>\n",
       "</table>\n",
       "</div>"
      ],
      "text/plain": [
       "                upm          Edad         Hijos  SalarioMinimo  \\\n",
       "count  1.442437e+06  1.442437e+06  1.442437e+06   1.442437e+06   \n",
       "mean   1.650327e+06  3.383921e+01  8.843464e-01   5.376124e+03   \n",
       "std    9.331443e+05  2.139549e+01  1.821677e+00   6.802491e+02   \n",
       "min    1.000050e+05  0.000000e+00  0.000000e+00   5.186000e+03   \n",
       "25%    8.036340e+05  1.600000e+01  0.000000e+00   5.186000e+03   \n",
       "50%    1.601115e+06  3.100000e+01  0.000000e+00   5.186000e+03   \n",
       "75%    2.501529e+06  5.000000e+01  1.000000e+00   5.186000e+03   \n",
       "max    3.260800e+06  9.800000e+01  9.900000e+01   7.810000e+03   \n",
       "\n",
       "       FechaNacimiento  YearsEscolaridad   HorasSemana  IngresoMensual  \\\n",
       "count     1.442437e+06      1.442437e+06  1.442437e+06    1.442437e+06   \n",
       "mean      3.240827e+04      8.324196e+00  1.876852e+01    2.662578e+03   \n",
       "std       2.604438e+04      6.179617e+00  2.391981e+01    5.610424e+03   \n",
       "min       2.928000e+03      0.000000e+00  0.000000e+00    0.000000e+00   \n",
       "25%       2.630800e+04      5.000000e+00  0.000000e+00    0.000000e+00   \n",
       "50%       3.309100e+04      9.000000e+00  0.000000e+00    0.000000e+00   \n",
       "75%       3.877500e+04      1.200000e+01  4.200000e+01    4.300000e+03   \n",
       "max       2.958461e+06      9.900000e+01  1.680000e+02    3.000000e+05   \n",
       "\n",
       "       IngresoHoras  \n",
       "count  1.442437e+06  \n",
       "mean   1.602949e+01  \n",
       "std    4.533147e+01  \n",
       "min    0.000000e+00  \n",
       "25%    0.000000e+00  \n",
       "50%    0.000000e+00  \n",
       "75%    2.400000e+01  \n",
       "max    1.000000e+04  "
      ]
     },
     "execution_count": 22,
     "metadata": {},
     "output_type": "execute_result"
    }
   ],
   "source": [
    "ENOE_2022.describe()"
   ]
  },
  {
   "cell_type": "code",
   "execution_count": 33,
   "metadata": {},
   "outputs": [],
   "source": [
    "ENOE_2022[['EntidadFederativa','Sexo','Escolaridad','EstadoConyugal','UrbanoRural','PEA','PEA2','PEA3','SeguridadSocial','Estrato','NivelEducativo','GrupoEdad','SectorScian','NumeroTrabajos',\\\n",
    "           'SectorFormalInformal','FormalInformal','SectorInstitucional']] = ENOE_2022[['EntidadFederativa','Sexo','Escolaridad','EstadoConyugal','UrbanoRural','PEA','PEA2','PEA3','SeguridadSocial',\\\n",
    "                                                                                        'Estrato','NivelEducativo','GrupoEdad','SectorScian','NumeroTrabajos',\\\n",
    "           'SectorFormalInformal','FormalInformal','SectorInstitucional']].astype('category')"
   ]
  },
  {
   "cell_type": "code",
   "execution_count": 34,
   "metadata": {},
   "outputs": [
    {
     "name": "stdout",
     "output_type": "stream",
     "text": [
      "<class 'pandas.core.frame.DataFrame'>\n",
      "Index: 1442437 entries, 0 to 356271\n",
      "Data columns (total 26 columns):\n",
      " #   Column                Non-Null Count    Dtype   \n",
      "---  ------                --------------    -----   \n",
      " 0   EntidadFederativa     1442437 non-null  category\n",
      " 1   upm                   1442437 non-null  int64   \n",
      " 2   Sexo                  1442437 non-null  category\n",
      " 3   Edad                  1442437 non-null  int64   \n",
      " 4   Escolaridad           1442437 non-null  category\n",
      " 5   Hijos                 1442437 non-null  int64   \n",
      " 6   EstadoConyugal        1442437 non-null  category\n",
      " 7   UrbanoRural           1442437 non-null  category\n",
      " 8   SalarioMinimo         1442437 non-null  int64   \n",
      " 9   PEA                   1442437 non-null  category\n",
      " 10  PEA2                  1442437 non-null  category\n",
      " 11  PEA3                  1442437 non-null  category\n",
      " 12  SeguridadSocial       1442437 non-null  category\n",
      " 13  Estrato               1442437 non-null  category\n",
      " 14  FechaNacimiento       1442437 non-null  int64   \n",
      " 15  NivelEducativo        1442437 non-null  category\n",
      " 16  GrupoEdad             1442437 non-null  category\n",
      " 17  YearsEscolaridad      1442437 non-null  int64   \n",
      " 18  HorasSemana           1442437 non-null  int64   \n",
      " 19  IngresoMensual        1442437 non-null  int64   \n",
      " 20  IngresoHoras          1442437 non-null  float64 \n",
      " 21  SectorScian           1442437 non-null  category\n",
      " 22  NumeroTrabajos        1442437 non-null  category\n",
      " 23  SectorFormalInformal  1442437 non-null  category\n",
      " 24  FormalInformal        1442437 non-null  category\n",
      " 25  SectorInstitucional   1442437 non-null  category\n",
      "dtypes: category(17), float64(1), int64(8)\n",
      "memory usage: 133.4 MB\n"
     ]
    }
   ],
   "source": [
    "ENOE_2022.info()"
   ]
  },
  {
   "cell_type": "code",
   "execution_count": null,
   "metadata": {},
   "outputs": [],
   "source": []
  }
 ],
 "metadata": {
  "kernelspec": {
   "display_name": "Python 3",
   "language": "python",
   "name": "python3"
  },
  "language_info": {
   "codemirror_mode": {
    "name": "ipython",
    "version": 3
   },
   "file_extension": ".py",
   "mimetype": "text/x-python",
   "name": "python",
   "nbconvert_exporter": "python",
   "pygments_lexer": "ipython3",
   "version": "3.11.4"
  },
  "orig_nbformat": 4
 },
 "nbformat": 4,
 "nbformat_minor": 2
}
